{
  "cells": [
    {
      "cell_type": "code",
      "execution_count": 1,
      "metadata": {
        "id": "IYwQBdhxq9qs"
      },
      "outputs": [],
      "source": [
        "#Step 1: Import the necassary Libraries\n",
        "import os\n",
        "import numpy as np\n",
        "import tensorflow as tf\n",
        "from keras.preprocessing.image import ImageDataGenerator\n",
        "from keras.applications import VGG16\n",
        "from keras import layers, models\n",
        "from sklearn.metrics import classification_report, confusion_matrix, roc_curve, auc\n",
        "import matplotlib.pyplot as plt"
      ]
    },
    {
      "cell_type": "code",
      "execution_count": 2,
      "metadata": {
        "id": "z-TpEyE7Iw6c"
      },
      "outputs": [],
      "source": [
        "#Step 2: Data Setup\n",
        "#Your model wants to read the data, you need to tell it where it is !\n",
        "train_data_dir = 'train_data'\n",
        "test_data_dir = 'test_data'\n",
        "validation_data_dir = 'validation_data'\n"
      ]
    },
    {
      "cell_type": "code",
      "execution_count": 3,
      "metadata": {
        "id": "G-doNDPVJCmk"
      },
      "outputs": [],
      "source": [
        "#Step 3: Set constants\n",
        "img_size = (224, 224)    #This is for VGG16 to understand it / NO NOT NECASSARY ! The smaller your image size the faster your computational speed !\n",
        "batch_size = 16          #This is how many images it trains per iteration"
      ]
    },
    {
      "cell_type": "code",
      "execution_count": 4,
      "metadata": {
        "id": "k-y_1BmMJQCY"
      },
      "outputs": [],
      "source": [
        "#Step 4: Data Augmentation FOR TRAINING\n",
        "#Since we have little data, we want to augment them by either flipping, rotating, or changing angle ! FOR TRAINING\n",
        "img_datagen = tf.keras.preprocessing.image.ImageDataGenerator(rescale=1./255)"
      ]
    },
    {
      "cell_type": "code",
      "execution_count": 5,
      "metadata": {
        "colab": {
          "base_uri": "https://localhost:8080/"
        },
        "id": "mp4EN2WNJjwG",
        "outputId": "d66dbbf2-9965-4e44-b15f-9d34e3dda38c"
      },
      "outputs": [
        {
          "name": "stdout",
          "output_type": "stream",
          "text": [
            "Found 1608 images belonging to 2 classes.\n"
          ]
        }
      ],
      "source": [
        "# Use flow_from_directory with subset parameter for training and validation\n",
        "train_generator = img_datagen.flow_from_directory(\n",
        "    train_data_dir,\n",
        "    target_size=img_size,\n",
        "    batch_size=batch_size,\n",
        "    class_mode='binary',\n",
        ")\n",
        "\n",
        "\n",
        "\n"
      ]
    },
    {
      "cell_type": "code",
      "execution_count": 6,
      "metadata": {
        "id": "XuPsqTma98UX"
      },
      "outputs": [
        {
          "name": "stdout",
          "output_type": "stream",
          "text": [
            "Found 130 images belonging to 2 classes.\n"
          ]
        }
      ],
      "source": [
        "validation_generator = img_datagen.flow_from_directory(\n",
        "    validation_data_dir,\n",
        "    target_size=img_size,\n",
        "    batch_size=batch_size,\n",
        "    class_mode='binary',\n",
        ")\n"
      ]
    },
    {
      "cell_type": "code",
      "execution_count": 7,
      "metadata": {
        "colab": {
          "base_uri": "https://localhost:8080/"
        },
        "id": "HkQavJljMon3",
        "outputId": "27bae0e2-17cb-4707-824b-a69d38d30a8a"
      },
      "outputs": [
        {
          "name": "stdout",
          "output_type": "stream",
          "text": [
            "Found 130 images belonging to 2 classes.\n"
          ]
        }
      ],
      "source": [
        "# Load testing data manually\n",
        "test_datagen = tf.keras.preprocessing.image.ImageDataGenerator(rescale=1./255)\n",
        "\n",
        "test_generator = test_datagen.flow_from_directory(\n",
        "    test_data_dir,\n",
        "    target_size=img_size,\n",
        "    batch_size=batch_size,\n",
        "    class_mode='binary',\n",
        "    shuffle=False  # Set shuffle to False for evaluation metrics\n",
        ")"
      ]
    },
    {
      "cell_type": "code",
      "execution_count": 8,
      "metadata": {
        "colab": {
          "base_uri": "https://localhost:8080/"
        },
        "id": "o8VlxSKPJnae",
        "outputId": "4dcf3d91-9a83-4a52-9a72-513f21be9c56"
      },
      "outputs": [],
      "source": [
        "#Step 5: Loading the VGG16\n",
        "# Load VGG16 model with pre-trained weights (include_top=False removes the top layer)\n",
        "base_model = VGG16(weights='imagenet', include_top=False, input_shape=(224,224,3))\n"
      ]
    },
    {
      "cell_type": "code",
      "execution_count": 9,
      "metadata": {
        "id": "lQfjGipGJt6t"
      },
      "outputs": [],
      "source": [
        "#Step 6: # Freeze the convolutional layers\n",
        "#What this does is freezes your weights from being updated during training\n",
        "#Its common for transfer learning because it could reduce training time/Mitigate overfitting/preserve pre-trained features\n",
        "for layer in base_model.layers:\n",
        "    layer.trainable = False\n"
      ]
    },
    {
      "cell_type": "code",
      "execution_count": 10,
      "metadata": {},
      "outputs": [
        {
          "name": "stdout",
          "output_type": "stream",
          "text": [
            "Model: \"vgg16\"\n",
            "_________________________________________________________________\n",
            " Layer (type)                Output Shape              Param #   \n",
            "=================================================================\n",
            " input_1 (InputLayer)        [(None, 224, 224, 3)]     0         \n",
            "                                                                 \n",
            " block1_conv1 (Conv2D)       (None, 224, 224, 64)      1792      \n",
            "                                                                 \n",
            " block1_conv2 (Conv2D)       (None, 224, 224, 64)      36928     \n",
            "                                                                 \n",
            " block1_pool (MaxPooling2D)  (None, 112, 112, 64)      0         \n",
            "                                                                 \n",
            " block2_conv1 (Conv2D)       (None, 112, 112, 128)     73856     \n",
            "                                                                 \n",
            " block2_conv2 (Conv2D)       (None, 112, 112, 128)     147584    \n",
            "                                                                 \n",
            " block2_pool (MaxPooling2D)  (None, 56, 56, 128)       0         \n",
            "                                                                 \n",
            " block3_conv1 (Conv2D)       (None, 56, 56, 256)       295168    \n",
            "                                                                 \n",
            " block3_conv2 (Conv2D)       (None, 56, 56, 256)       590080    \n",
            "                                                                 \n",
            " block3_conv3 (Conv2D)       (None, 56, 56, 256)       590080    \n",
            "                                                                 \n",
            " block3_pool (MaxPooling2D)  (None, 28, 28, 256)       0         \n",
            "                                                                 \n",
            " block4_conv1 (Conv2D)       (None, 28, 28, 512)       1180160   \n",
            "                                                                 \n",
            " block4_conv2 (Conv2D)       (None, 28, 28, 512)       2359808   \n",
            "                                                                 \n",
            " block4_conv3 (Conv2D)       (None, 28, 28, 512)       2359808   \n",
            "                                                                 \n",
            " block4_pool (MaxPooling2D)  (None, 14, 14, 512)       0         \n",
            "                                                                 \n",
            " block5_conv1 (Conv2D)       (None, 14, 14, 512)       2359808   \n",
            "                                                                 \n",
            " block5_conv2 (Conv2D)       (None, 14, 14, 512)       2359808   \n",
            "                                                                 \n",
            " block5_conv3 (Conv2D)       (None, 14, 14, 512)       2359808   \n",
            "                                                                 \n",
            " block5_pool (MaxPooling2D)  (None, 7, 7, 512)         0         \n",
            "                                                                 \n",
            "=================================================================\n",
            "Total params: 14714688 (56.13 MB)\n",
            "Trainable params: 0 (0.00 Byte)\n",
            "Non-trainable params: 14714688 (56.13 MB)\n",
            "_________________________________________________________________\n"
          ]
        }
      ],
      "source": [
        "base_model.summary()"
      ]
    },
    {
      "cell_type": "code",
      "execution_count": 11,
      "metadata": {
        "id": "hpvQakbJJyFJ"
      },
      "outputs": [],
      "source": [
        "# Build your own model on top of the frozen model\n",
        "#In summary, this code constructs a sequential model by adding the frozen VGG16 base model as a feature extractor and then appending\n",
        "#custom layers for fine-tuning and adapting the model to a specific binary classification task. The dense layers are responsible for\n",
        "#learning task-specific patterns and making the final predictions.\n",
        "from keras import regularizers\n",
        "\n",
        "model = models.Sequential()\n",
        "model.add(base_model)\n",
        "model.add(layers.Flatten())\n",
        "model.add(layers.Dense(1024, activation='relu', kernel_regularizer=regularizers.l2(0.001)))\n",
        "model.add(layers.Dropout(0.5))\n",
        "model.add(layers.Dense(1, activation='sigmoid'))  # Assuming binary classification\n"
      ]
    },
    {
      "cell_type": "code",
      "execution_count": 12,
      "metadata": {
        "id": "0mDD5ujlJ4ti"
      },
      "outputs": [],
      "source": [
        "# Compile the model\n",
        "optimizer = tf.keras.optimizers.Adam(learning_rate=0.0001)\n",
        "model.compile(optimizer=optimizer, loss='binary_crossentropy', metrics=['accuracy'])\n"
      ]
    },
    {
      "cell_type": "code",
      "execution_count": 13,
      "metadata": {
        "colab": {
          "base_uri": "https://localhost:8080/",
          "height": 807
        },
        "id": "yMch4dKXKFPC",
        "outputId": "90da66c0-ca88-49f6-e0f8-559524986879"
      },
      "outputs": [
        {
          "name": "stdout",
          "output_type": "stream",
          "text": [
            "Epoch 1/25\n",
            "101/101 [==============================] - ETA: 0s - loss: 1.9688 - accuracy: 0.6934"
          ]
        },
        {
          "name": "stderr",
          "output_type": "stream",
          "text": [
            "c:\\Users\\awadm\\AppData\\Local\\Programs\\Python\\Python311\\Lib\\site-packages\\keras\\src\\engine\\training.py:3079: UserWarning: You are saving your model as an HDF5 file via `model.save()`. This file format is considered legacy. We recommend using instead the native Keras format, e.g. `model.save('my_model.keras')`.\n",
            "  saving_api.save_model(\n"
          ]
        },
        {
          "name": "stdout",
          "output_type": "stream",
          "text": [
            "101/101 [==============================] - 295s 3s/step - loss: 1.9688 - accuracy: 0.6934 - val_loss: 1.5831 - val_accuracy: 0.6385\n",
            "Epoch 2/25\n",
            "101/101 [==============================] - 285s 3s/step - loss: 1.2427 - accuracy: 0.7985 - val_loss: 1.5661 - val_accuracy: 0.6154\n",
            "Epoch 3/25\n",
            "101/101 [==============================] - 276s 3s/step - loss: 1.0241 - accuracy: 0.8346 - val_loss: 1.2632 - val_accuracy: 0.7154\n",
            "Epoch 4/25\n",
            "101/101 [==============================] - 278s 3s/step - loss: 0.8971 - accuracy: 0.8675 - val_loss: 1.2348 - val_accuracy: 0.7308\n",
            "Epoch 5/25\n",
            "101/101 [==============================] - 275s 3s/step - loss: 0.7977 - accuracy: 0.8787 - val_loss: 1.3763 - val_accuracy: 0.6077\n",
            "Epoch 6/25\n",
            "101/101 [==============================] - 273s 3s/step - loss: 0.6877 - accuracy: 0.9123 - val_loss: 1.6440 - val_accuracy: 0.5846\n",
            "Epoch 7/25\n",
            "101/101 [==============================] - 282s 3s/step - loss: 0.6621 - accuracy: 0.9005 - val_loss: 1.0890 - val_accuracy: 0.7077\n",
            "Epoch 8/25\n",
            "101/101 [==============================] - 276s 3s/step - loss: 0.5844 - accuracy: 0.9223 - val_loss: 1.0578 - val_accuracy: 0.7385\n",
            "Epoch 9/25\n",
            "101/101 [==============================] - 294s 3s/step - loss: 0.5260 - accuracy: 0.9484 - val_loss: 1.1027 - val_accuracy: 0.7231\n",
            "Epoch 10/25\n",
            "101/101 [==============================] - 314s 3s/step - loss: 0.4761 - accuracy: 0.9614 - val_loss: 1.0271 - val_accuracy: 0.7462\n",
            "Epoch 11/25\n",
            "101/101 [==============================] - 298s 3s/step - loss: 0.4595 - accuracy: 0.9558 - val_loss: 1.1932 - val_accuracy: 0.6769\n",
            "Epoch 12/25\n",
            "101/101 [==============================] - 292s 3s/step - loss: 0.4206 - accuracy: 0.9627 - val_loss: 1.0707 - val_accuracy: 0.7154\n",
            "Epoch 13/25\n",
            "101/101 [==============================] - 302s 3s/step - loss: 0.3938 - accuracy: 0.9701 - val_loss: 0.9780 - val_accuracy: 0.7462\n",
            "Epoch 14/25\n",
            "101/101 [==============================] - 274s 3s/step - loss: 0.3743 - accuracy: 0.9695 - val_loss: 1.0535 - val_accuracy: 0.7077\n",
            "Epoch 15/25\n",
            "101/101 [==============================] - 285s 3s/step - loss: 0.3498 - accuracy: 0.9795 - val_loss: 1.2896 - val_accuracy: 0.6538\n",
            "Epoch 16/25\n",
            "101/101 [==============================] - 298s 3s/step - loss: 0.3366 - accuracy: 0.9726 - val_loss: 1.0597 - val_accuracy: 0.7231\n",
            "Epoch 17/25\n",
            "101/101 [==============================] - 296s 3s/step - loss: 0.3121 - accuracy: 0.9845 - val_loss: 0.9700 - val_accuracy: 0.7462\n",
            "Epoch 18/25\n",
            "101/101 [==============================] - 283s 3s/step - loss: 0.3054 - accuracy: 0.9789 - val_loss: 1.0453 - val_accuracy: 0.7077\n",
            "Epoch 19/25\n",
            "101/101 [==============================] - 302s 3s/step - loss: 0.2886 - accuracy: 0.9745 - val_loss: 0.9389 - val_accuracy: 0.7385\n",
            "Epoch 20/25\n",
            "101/101 [==============================] - 292s 3s/step - loss: 0.2965 - accuracy: 0.9683 - val_loss: 1.0457 - val_accuracy: 0.7154\n",
            "Epoch 21/25\n",
            "101/101 [==============================] - 296s 3s/step - loss: 0.2648 - accuracy: 0.9863 - val_loss: 1.0087 - val_accuracy: 0.7154\n",
            "Epoch 22/25\n",
            "101/101 [==============================] - 274s 3s/step - loss: 0.2669 - accuracy: 0.9807 - val_loss: 1.2678 - val_accuracy: 0.6462\n",
            "Epoch 23/25\n",
            "101/101 [==============================] - 282s 3s/step - loss: 0.2500 - accuracy: 0.9863 - val_loss: 1.0267 - val_accuracy: 0.7385\n",
            "Epoch 24/25\n",
            "101/101 [==============================] - 286s 3s/step - loss: 0.2726 - accuracy: 0.9664 - val_loss: 1.0568 - val_accuracy: 0.7308\n",
            "Epoch 25/25\n",
            "101/101 [==============================] - 317s 3s/step - loss: 0.2592 - accuracy: 0.9714 - val_loss: 1.0325 - val_accuracy: 0.7462\n",
            "Training time: 120.43 minutes\n"
          ]
        }
      ],
      "source": [
        "import time\n",
        "from keras.callbacks import ModelCheckpoint\n",
        "\n",
        "# Define the ModelCheckpoint callback to save the best weights\n",
        "checkpoint = ModelCheckpoint(\"best_model.h5\", save_best_only=True, monitor=\"val_loss\", mode=\"min\")\n",
        "\n",
        "# Record the start time\n",
        "start_time = time.time()\n",
        "\n",
        "# Train the model\n",
        "history = model.fit(\n",
        "    train_generator,\n",
        "    epochs=25,\n",
        "    validation_data=validation_generator,\n",
        "    callbacks=[checkpoint]\n",
        ")\n",
        "\n",
        "# Record the end time\n",
        "end_time = time.time()\n",
        "\n",
        "# Load the best weights before evaluation\n",
        "model.load_weights(\"best_model.h5\")\n",
        "\n",
        "# Calculate and print the training time in minutes\n",
        "training_time_seconds = end_time - start_time\n",
        "training_time_minutes = training_time_seconds / 60\n",
        "print(f\"Training time: {training_time_minutes:.2f} minutes\")"
      ]
    },
    {
      "cell_type": "code",
      "execution_count": 14,
      "metadata": {
        "colab": {
          "base_uri": "https://localhost:8080/",
          "height": 227
        },
        "id": "0gkMOba-KGOq",
        "outputId": "a63b0a46-92b3-4d2d-91e1-641c57446946"
      },
      "outputs": [
        {
          "name": "stdout",
          "output_type": "stream",
          "text": [
            "9/9 [==============================] - 20s 2s/step - loss: 0.7143 - accuracy: 0.7846\n",
            "Test Loss: 0.7142565250396729\n",
            "Test Accuracy: 0.7846153974533081\n"
          ]
        }
      ],
      "source": [
        "# Evaluate on the test set\n",
        "test_results = model.evaluate(test_generator)\n",
        "print(\"Test Loss:\", test_results[0])\n",
        "print(\"Test Accuracy:\", test_results[1])\n"
      ]
    },
    {
      "cell_type": "code",
      "execution_count": 15,
      "metadata": {
        "colab": {
          "base_uri": "https://localhost:8080/"
        },
        "id": "5dsP8yRwKJET",
        "outputId": "2179292d-618d-4817-b029-2aef373da009"
      },
      "outputs": [
        {
          "name": "stdout",
          "output_type": "stream",
          "text": [
            "9/9 [==============================] - 19s 2s/step\n"
          ]
        }
      ],
      "source": [
        "# Predictions on the test set\n",
        "test_predictions = model.predict(test_generator)\n",
        "test_labels = test_generator.classes\n"
      ]
    },
    {
      "cell_type": "code",
      "execution_count": 16,
      "metadata": {
        "colab": {
          "base_uri": "https://localhost:8080/"
        },
        "id": "TA4JMlIpKLh_",
        "outputId": "9c0bcb83-9971-43fe-afc2-e2c8767cd67a"
      },
      "outputs": [
        {
          "name": "stdout",
          "output_type": "stream",
          "text": [
            "\n",
            "Classification Report:\n",
            "              precision    recall  f1-score   support\n",
            "\n",
            "   cancerous       0.79      0.77      0.78        65\n",
            "      normal       0.78      0.80      0.79        65\n",
            "\n",
            "    accuracy                           0.78       130\n",
            "   macro avg       0.78      0.78      0.78       130\n",
            "weighted avg       0.78      0.78      0.78       130\n",
            "\n"
          ]
        }
      ],
      "source": [
        "# Classification Report\n",
        "print(\"\\nClassification Report:\")\n",
        "print(classification_report(test_labels, np.round(test_predictions), target_names=['cancerous','normal']))\n"
      ]
    },
    {
      "cell_type": "code",
      "execution_count": 17,
      "metadata": {
        "colab": {
          "base_uri": "https://localhost:8080/",
          "height": 564
        },
        "id": "j7NM3DwvKN-m",
        "outputId": "7025669d-050b-4607-88f3-5a15e3175b5b"
      },
      "outputs": [
        {
          "data": {
            "image/png": "[encoded data removed]",
            "text/plain": [
              "<Figure size 800x600 with 2 Axes>"
            ]
          },
          "metadata": {},
          "output_type": "display_data"
        }
      ],
      "source": [
        "from sklearn.metrics import confusion_matrix, ConfusionMatrixDisplay\n",
        "import seaborn as sns\n",
        "import matplotlib.pyplot as plt\n",
        "\n",
        "# Assuming test_labels and test_predictions are your true labels and predicted labels, respectively\n",
        "conf_matrix = confusion_matrix(test_labels, np.round(test_predictions))\n",
        "\n",
        "# Plot the confusion matrix as a figure using ConfusionMatrixDisplay\n",
        "disp = ConfusionMatrixDisplay(confusion_matrix=conf_matrix, display_labels=['Cancerous', 'Normal'])\n",
        "fig, ax = plt.subplots(figsize=(8, 6))\n",
        "disp.plot(ax=ax, cmap='Blues', values_format='d')\n",
        "plt.xlabel('Predicted')\n",
        "plt.ylabel('True')\n",
        "plt.title('Confusion Matrix')\n",
        "plt.show()"
      ]
    },
    {
      "cell_type": "code",
      "execution_count": 18,
      "metadata": {
        "colab": {
          "base_uri": "https://localhost:8080/",
          "height": 472
        },
        "id": "6w_Ck1XMKR21",
        "outputId": "a7d6e5fd-6af0-480b-d051-3935c0c2b145"
      },
      "outputs": [
        {
          "data": {
            "image/png": "[encoded data removed]",
            "text/plain": [
              "<Figure size 640x480 with 1 Axes>"
            ]
          },
          "metadata": {},
          "output_type": "display_data"
        }
      ],
      "source": [
        "# Plot ROC Curve\n",
        "fpr, tpr, _ = roc_curve(test_labels, test_predictions)\n",
        "roc_auc = auc(fpr, tpr)\n",
        "\n",
        "plt.figure()\n",
        "plt.plot(fpr, tpr, color='darkorange', lw=2, label='ROC curve (area = {:.2f})'.format(roc_auc))\n",
        "plt.plot([0, 1], [0, 1], color='navy', lw=2, linestyle='--')\n",
        "plt.xlabel('False Positive Rate')\n",
        "plt.ylabel('True Positive Rate')\n",
        "plt.title('Receiver Operating Characteristic (ROC) Curve')\n",
        "plt.legend(loc=\"lower right\")\n",
        "plt.show()\n"
      ]
    },
    {
      "cell_type": "code",
      "execution_count": 19,
      "metadata": {
        "colab": {
          "base_uri": "https://localhost:8080/",
          "height": 52
        },
        "id": "Wec9RPvWKSsN",
        "outputId": "11525dd6-da39-492a-b8a5-7088fee6cb69"
      },
      "outputs": [
        {
          "data": {
            "text/plain": [
              "<Figure size 1200x400 with 0 Axes>"
            ]
          },
          "execution_count": 19,
          "metadata": {},
          "output_type": "execute_result"
        },
        {
          "data": {
            "text/plain": [
              "<Figure size 1200x400 with 0 Axes>"
            ]
          },
          "metadata": {},
          "output_type": "display_data"
        }
      ],
      "source": [
        "# Plot training and validation accuracy and loss\n",
        "plt.figure(figsize=(12, 4))\n"
      ]
    },
    {
      "cell_type": "code",
      "execution_count": 20,
      "metadata": {
        "colab": {
          "base_uri": "https://localhost:8080/",
          "height": 489
        },
        "id": "m0mRdBwwKVAP",
        "outputId": "cb5d4539-0b59-41ec-b326-0503385ccea7"
      },
      "outputs": [
        {
          "data": {
            "text/plain": [
              "<matplotlib.legend.Legend at 0x16daf99b550>"
            ]
          },
          "execution_count": 20,
          "metadata": {},
          "output_type": "execute_result"
        },
        {
          "data": {
            "image/png": "[encoded data removed]",
            "text/plain": [
              "<Figure size 640x480 with 1 Axes>"
            ]
          },
          "metadata": {},
          "output_type": "display_data"
        }
      ],
      "source": [
        "# Plot Training & Validation Accuracy values\n",
        "plt.subplot(1, 2, 1)\n",
        "plt.plot(history.history['accuracy'])\n",
        "plt.plot(history.history['val_accuracy'])\n",
        "plt.title('Model accuracy')\n",
        "plt.xlabel('Epoch')\n",
        "plt.ylabel('Accuracy')\n",
        "plt.legend(['Train', 'Validation'], loc='upper left')\n"
      ]
    },
    {
      "cell_type": "code",
      "execution_count": 21,
      "metadata": {
        "colab": {
          "base_uri": "https://localhost:8080/",
          "height": 487
        },
        "id": "QDh85eEmKXlE",
        "outputId": "b7bb3d72-9348-4874-d994-4762861805a1"
      },
      "outputs": [
        {
          "data": {
            "image/png": "[encoded data removed]",
            "text/plain": [
              "<Figure size 640x480 with 1 Axes>"
            ]
          },
          "metadata": {},
          "output_type": "display_data"
        }
      ],
      "source": [
        "# Plot Training & Validation Loss values\n",
        "plt.subplot(1, 2, 2)\n",
        "plt.plot(history.history['loss'])\n",
        "plt.plot(history.history['val_loss'])\n",
        "plt.title('Model loss')\n",
        "plt.xlabel('Epoch')\n",
        "plt.ylabel('Loss')\n",
        "plt.legend(['Train', 'Validation'], loc='upper left')\n",
        "\n",
        "plt.tight_layout()\n",
        "plt.show()\n"
      ]
    },
    {
      "cell_type": "code",
      "execution_count": 26,
      "metadata": {},
      "outputs": [
        {
          "name": "stdout",
          "output_type": "stream",
          "text": [
            "[[0.40126956]\n",
            " [0.10856885]\n",
            " [0.30261666]\n",
            " [0.01574758]\n",
            " [0.3869033 ]\n",
            " [0.04596864]\n",
            " [0.44617182]\n",
            " [0.07470143]\n",
            " [0.19822271]\n",
            " [0.3039534 ]\n",
            " [0.3125728 ]\n",
            " [0.46186253]\n",
            " [0.15927957]\n",
            " [0.40718427]\n",
            " [0.638325  ]\n",
            " [0.67695063]\n",
            " [0.15451299]\n",
            " [0.22060554]\n",
            " [0.51352805]\n",
            " [0.14357397]\n",
            " [0.14793265]\n",
            " [0.02713817]\n",
            " [0.43363157]\n",
            " [0.32597446]\n",
            " [0.44867933]\n",
            " [0.1138995 ]\n",
            " [0.05289927]\n",
            " [0.12541214]\n",
            " [0.44893822]\n",
            " [0.04710993]\n",
            " [0.29749772]\n",
            " [0.11325652]\n",
            " [0.01615371]\n",
            " [0.09458595]\n",
            " [0.05845544]\n",
            " [0.96258855]\n",
            " [0.02582831]\n",
            " [0.05233368]\n",
            " [0.08905714]\n",
            " [0.21109995]\n",
            " [0.20119876]\n",
            " [0.06871779]\n",
            " [0.21499838]\n",
            " [0.7701233 ]\n",
            " [0.3196208 ]\n",
            " [0.93428195]\n",
            " [0.03075543]\n",
            " [0.5715273 ]\n",
            " [0.6457781 ]\n",
            " [0.9036564 ]\n",
            " [0.53733623]\n",
            " [0.2572644 ]\n",
            " [0.47518864]\n",
            " [0.3601944 ]\n",
            " [0.7323373 ]\n",
            " [0.7432465 ]\n",
            " [0.57139075]\n",
            " [0.37904412]\n",
            " [0.40872326]\n",
            " [0.56570464]\n",
            " [0.9704944 ]\n",
            " [0.21257785]\n",
            " [0.97849566]\n",
            " [0.9200441 ]\n",
            " [0.27873084]\n",
            " [0.7845576 ]\n",
            " [0.55069894]\n",
            " [0.6009073 ]\n",
            " [0.84649944]\n",
            " [0.8289267 ]\n",
            " [0.6243939 ]\n",
            " [0.92919916]\n",
            " [0.55617815]\n",
            " [0.6962484 ]\n",
            " [0.77129114]\n",
            " [0.4310014 ]\n",
            " [0.2803216 ]\n",
            " [0.7413464 ]\n",
            " [0.71360815]\n",
            " [0.87587714]\n",
            " [0.31717274]\n",
            " [0.54319274]\n",
            " [0.93782926]\n",
            " [0.48177388]\n",
            " [0.797391  ]\n",
            " [0.3163248 ]\n",
            " [0.27182758]\n",
            " [0.27218577]\n",
            " [0.7275777 ]\n",
            " [0.31220186]\n",
            " [0.74191004]\n",
            " [0.7495661 ]\n",
            " [0.24855658]\n",
            " [0.6070285 ]\n",
            " [0.69434685]\n",
            " [0.9928776 ]\n",
            " [0.9692837 ]\n",
            " [0.9563453 ]\n",
            " [0.95324355]\n",
            " [0.88448924]\n",
            " [0.9802772 ]\n",
            " [0.93016297]\n",
            " [0.70181906]\n",
            " [0.81320035]\n",
            " [0.54213315]\n",
            " [0.97129375]\n",
            " [0.9756177 ]\n",
            " [0.9775475 ]\n",
            " [0.95582026]\n",
            " [0.90181804]\n",
            " [0.38220254]\n",
            " [0.81079066]\n",
            " [0.9514685 ]\n",
            " [0.90544677]\n",
            " [0.92536354]\n",
            " [0.98050547]\n",
            " [0.9819728 ]\n",
            " [0.9094304 ]\n",
            " [0.8076256 ]\n",
            " [0.76253194]\n",
            " [0.8844107 ]\n",
            " [0.7364915 ]\n",
            " [0.75064456]\n",
            " [0.2578012 ]\n",
            " [0.9409446 ]\n",
            " [0.98892397]\n",
            " [0.65802413]\n",
            " [0.9909533 ]\n",
            " [0.991028  ]\n",
            " [0.99800414]]\n"
          ]
        },
        {
          "data": {
            "text/plain": [
              "array([0, 0, 0, 0, 0, 0, 0, 0, 0, 0, 0, 0, 0, 0, 0, 0, 0, 0, 0, 0, 0, 0,\n",
              "       0, 0, 0, 0, 0, 0, 0, 0, 0, 0, 0, 0, 0, 0, 0, 0, 0, 0, 0, 0, 0, 0,\n",
              "       0, 0, 0, 0, 0, 0, 0, 0, 0, 0, 0, 0, 0, 0, 0, 0, 0, 0, 0, 0, 0, 1,\n",
              "       1, 1, 1, 1, 1, 1, 1, 1, 1, 1, 1, 1, 1, 1, 1, 1, 1, 1, 1, 1, 1, 1,\n",
              "       1, 1, 1, 1, 1, 1, 1, 1, 1, 1, 1, 1, 1, 1, 1, 1, 1, 1, 1, 1, 1, 1,\n",
              "       1, 1, 1, 1, 1, 1, 1, 1, 1, 1, 1, 1, 1, 1, 1, 1, 1, 1, 1, 1])"
            ]
          },
          "execution_count": 26,
          "metadata": {},
          "output_type": "execute_result"
        }
      ],
      "source": [
        "print(test_predictions)\n",
        "test_generator.labels"
      ]
    }
  ],
  "metadata": {
    "colab": {
      "provenance": []
    },
    "kernelspec": {
      "display_name": "Python 3",
      "name": "python3"
    },
    "language_info": {
      "codemirror_mode": {
        "name": "ipython",
        "version": 3
      },
      "file_extension": ".py",
      "mimetype": "text/x-python",
      "name": "python",
      "nbconvert_exporter": "python",
      "pygments_lexer": "ipython3",
      "version": "3.11.0"
    }
  },
  "nbformat": 4,
  "nbformat_minor": 0
}
