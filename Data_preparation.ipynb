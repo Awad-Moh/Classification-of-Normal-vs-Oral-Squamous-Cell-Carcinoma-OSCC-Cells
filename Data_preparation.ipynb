{
 "cells": [
  {
   "cell_type": "code",
   "execution_count": 1,
   "metadata": {},
   "outputs": [],
   "source": [
    "import numpy as np\n",
    "import pandas as pd\n",
    "import torch\n",
    "from torchvision import transforms\n",
    "from torchvision.datasets import ImageFolder\n",
    "import torchvision.models as models\n",
    "from torch.utils.data import DataLoader\n",
    "from torch.utils.data.sampler import SubsetRandomSampler\n",
    "from torch.utils.data import random_split\n",
    "from torch import nn\n",
    "from torchsummary import summary\n",
    "import os\n",
    "import random\n",
    "import shutil\n"
   ]
  },
  {
   "cell_type": "code",
   "execution_count": 2,
   "metadata": {},
   "outputs": [],
   "source": [
    "device = torch.device('cuda' if torch.cuda.is_available() else 'cpu')"
   ]
  },
  {
   "cell_type": "code",
   "execution_count": 7,
   "metadata": {},
   "outputs": [],
   "source": [
    "# Define paths to the original 'normal' and 'cancerous' images\n",
    "normal_100_dir = 'Normal_100'\n",
    "normal_400_dir = 'Normal_400'\n",
    "cancerous_100_dir = 'Cancerous_100'\n",
    "cancerous_400_dir = 'Cancerous_400'\n",
    "\n",
    "\n",
    "# Define paths for train, validation, and test data\n",
    "train_dir = 'train_data'\n",
    "validation_dir = 'validation_data'\n",
    "test_dir = 'test_data'\n",
    "\n",
    "test_ratio = 0.1\n",
    "\n",
    "# Create train, validation, and test folder if not existing already\n",
    "if not os.path.exists(train_dir):\n",
    "    os.makedirs(train_dir)\n",
    "    os.makedirs(os.path.join(train_dir, 'normal'))\n",
    "    os.makedirs(os.path.join(train_dir, 'cancerous'))\n",
    "if not os.path.exists(validation_dir):\n",
    "    os.makedirs(validation_dir)\n",
    "    os.makedirs(os.path.join(validation_dir, 'normal'))\n",
    "    os.makedirs(os.path.join(validation_dir, 'cancerous'))\n",
    "if not os.path.exists(test_dir):\n",
    "    os.makedirs(test_dir)\n",
    "    os.makedirs(os.path.join(test_dir, 'normal'))\n",
    "    os.makedirs(os.path.join(test_dir, 'cancerous'))"
   ]
  },
  {
   "cell_type": "code",
   "execution_count": 4,
   "metadata": {},
   "outputs": [],
   "source": [
    "# List the images in the 'normal' and 'cancerous' directories\n",
    "normal_100_files = os.listdir(normal_100_dir)\n",
    "normal_400_files = os.listdir(normal_400_dir)\n",
    "cancerous_100_files = os.listdir(cancerous_100_dir)\n",
    "cancerous_400_files = os.listdir(cancerous_400_dir)\n",
    "\n",
    "# Randomly shuffle the files list\n",
    "random.shuffle(normal_100_files)\n",
    "random.shuffle(normal_400_files)\n",
    "random.shuffle(cancerous_100_files)\n",
    "random.shuffle(cancerous_400_files)"
   ]
  },
  {
   "cell_type": "code",
   "execution_count": 8,
   "metadata": {},
   "outputs": [],
   "source": [
    "# calculate the number of samples for testing\n",
    "num_normal_100 = 30\n",
    "num_cancerous_100 = 30\n",
    "num_normal_400 = 35\n",
    "num_cancerous_400 = 35\n",
    "\n",
    "# copy the images from the original directories to the test folder\n",
    "for file in normal_100_files[:num_normal_100]:\n",
    "    src_path = os.path.join(normal_100_dir,file)\n",
    "    des_path = os.path.join(test_dir,'normal', file)\n",
    "    shutil.copy(src_path,des_path)\n",
    "for file in normal_400_files[:num_normal_400]:\n",
    "    src_path = os.path.join(normal_400_dir,file)\n",
    "    des_path = os.path.join(test_dir,'normal', file)\n",
    "    shutil.copy(src_path,des_path)\n",
    "\n",
    "for file in cancerous_100_files[:num_cancerous_100]:\n",
    "    src_path = os.path.join(cancerous_100_dir,file)\n",
    "    des_path = os.path.join(test_dir,'cancerous', file)\n",
    "    shutil.copy(src_path,des_path)\n",
    "for file in cancerous_400_files[:num_cancerous_400]:\n",
    "    src_path = os.path.join(cancerous_400_dir,file)\n",
    "    des_path = os.path.join(test_dir,'cancerous', file)\n",
    "    shutil.copy(src_path,des_path)\n",
    "\n",
    "# copy the images from the original directories to the validation folder\n",
    "for file in normal_100_files[num_normal_100:(num_normal_100*2)]:\n",
    "    src_path = os.path.join(normal_100_dir,file)\n",
    "    des_path = os.path.join(validation_dir,'normal', file)\n",
    "    shutil.copy(src_path,des_path)\n",
    "for file in normal_400_files[num_normal_400:(num_normal_400*2)]:\n",
    "    src_path = os.path.join(normal_400_dir,file)\n",
    "    des_path = os.path.join(validation_dir,'normal', file)\n",
    "    shutil.copy(src_path,des_path)\n",
    "\n",
    "for file in cancerous_100_files[num_cancerous_100:(num_cancerous_100*2)]:\n",
    "    src_path = os.path.join(cancerous_100_dir,file)\n",
    "    des_path = os.path.join(validation_dir,'cancerous', file)\n",
    "    shutil.copy(src_path,des_path)\n",
    "for file in cancerous_400_files[num_cancerous_400:(num_cancerous_400*2)]:\n",
    "    src_path = os.path.join(cancerous_400_dir,file)\n",
    "    des_path = os.path.join(validation_dir,'cancerous', file)\n",
    "    shutil.copy(src_path,des_path)"
   ]
  },
  {
   "cell_type": "code",
   "execution_count": 10,
   "metadata": {},
   "outputs": [],
   "source": [
    "# copy the images from the original directories to the train folder\n",
    "for file in normal_100_files[(num_normal_100*2):]:\n",
    "    src_path = os.path.join(normal_100_dir,file)\n",
    "    des_path = os.path.join(train_dir,'normal', file)\n",
    "    shutil.copy(src_path,des_path)\n",
    "for file in normal_400_files[(num_normal_400*2):]:\n",
    "    src_path = os.path.join(normal_400_dir,file)\n",
    "    des_path = os.path.join(train_dir,'normal', file)\n",
    "    shutil.copy(src_path,des_path)\n",
    "\n",
    "for file in cancerous_100_files[(num_cancerous_100*2):]:\n",
    "    src_path = os.path.join(cancerous_100_dir,file)\n",
    "    des_path = os.path.join(train_dir,'cancerous', file)\n",
    "    shutil.copy(src_path,des_path)\n",
    "for file in cancerous_400_files[(num_cancerous_400*2):]:\n",
    "    src_path = os.path.join(cancerous_400_dir,file)\n",
    "    des_path = os.path.join(train_dir,'cancerous', file)\n",
    "    shutil.copy(src_path,des_path)"
   ]
  },
  {
   "cell_type": "code",
   "execution_count": 11,
   "metadata": {},
   "outputs": [
    {
     "name": "stdout",
     "output_type": "stream",
     "text": [
      "160\n",
      "804\n"
     ]
    }
   ],
   "source": [
    "print(len(normal_100_files[(num_normal_100*2):]) + len(normal_400_files[(num_normal_400*2):]))\n",
    "print(len(cancerous_100_files[(num_cancerous_100*2):]) + len(cancerous_400_files[(num_cancerous_400*2):]))"
   ]
  },
  {
   "cell_type": "code",
   "execution_count": 12,
   "metadata": {},
   "outputs": [
    {
     "name": "stdout",
     "output_type": "stream",
     "text": [
      "160\n"
     ]
    }
   ],
   "source": [
    "\n",
    "to_augment = len(os.listdir('train_data/normal'))\n",
    "print(to_augment)\n"
   ]
  },
  {
   "cell_type": "code",
   "execution_count": 13,
   "metadata": {},
   "outputs": [],
   "source": [
    "import cv2\n",
    "import os\n",
    "import numpy as np\n",
    "\n",
    "# Path to the directory containing your original images\n",
    "original_images_directory = 'train_data/normal'\n",
    "\n",
    "# Path to the directory where you want to save the augmented images\n",
    "augmented_images_directory = 'train_data/nomral'\n",
    "\n",
    "# List all the images in the original directory\n",
    "original_images = os.listdir(original_images_directory)\n",
    "\n",
    "# Ensure the output directory exists\n",
    "os.makedirs(augmented_images_directory, exist_ok=True)\n",
    "\n",
    "# Loop through each original image, apply flips, and save the augmented images\n",
    "for image_name in original_images:\n",
    "    # Load the original image\n",
    "    img = cv2.imread(os.path.join(original_images_directory, image_name))\n",
    "\n",
    "    # Apply horizontal flip\n",
    "    img_horizontal_flip = cv2.flip(img, 1)\n",
    "\n",
    "\n",
    "    # Save augmented images\n",
    "    cv2.imwrite(os.path.join(augmented_images_directory, f\"{image_name[:-4]}_horizontal.jpg\"), img_horizontal_flip)\n",
    "  \n"
   ]
  },
  {
   "cell_type": "code",
   "execution_count": 14,
   "metadata": {},
   "outputs": [],
   "source": [
    "import cv2\n",
    "import os\n",
    "import numpy as np\n",
    "\n",
    "# Path to the directory containing your original images\n",
    "original_images_directory = 'train_data/normal'\n",
    "\n",
    "# Path to the directory where you want to save the augmented images\n",
    "augmented_images_directory = 'train_data/nomral'\n",
    "\n",
    "# List all the images in the original directory\n",
    "original_images = os.listdir(original_images_directory)\n",
    "\n",
    "# Ensure the output directory exists\n",
    "os.makedirs(augmented_images_directory, exist_ok=True)\n",
    "\n",
    "# Loop through each original image, apply flips, and save the augmented images\n",
    "for image_name in original_images:\n",
    "    # Load the original image\n",
    "    img = cv2.imread(os.path.join(original_images_directory, image_name))\n",
    "\n",
    "\n",
    "    # Apply vertical flip\n",
    "    img_vertical_flip = cv2.flip(img, 0)\n",
    "\n",
    "    cv2.imwrite(os.path.join(augmented_images_directory, f\"{image_name[:-4]}_vertical.jpg\"), img_vertical_flip)"
   ]
  },
  {
   "cell_type": "code",
   "execution_count": 9,
   "metadata": {},
   "outputs": [
    {
     "name": "stdout",
     "output_type": "stream",
     "text": [
      "640\n"
     ]
    }
   ],
   "source": [
    "print(len(os.listdir('train_data/normal')))"
   ]
  },
  {
   "cell_type": "code",
   "execution_count": 15,
   "metadata": {},
   "outputs": [],
   "source": [
    "import scipy\n",
    "from keras.preprocessing.image import ImageDataGenerator, img_to_array, load_img\n",
    "import random\n",
    "from PIL import Image\n",
    "\n",
    "# Path to the directory containing your original images\n",
    "original_images_directory = 'train_data/normal'\n",
    "\n",
    "# Path to the directory where you want to save the augmented images\n",
    "augmented_images_directory = 'train_data/augmented'\n",
    "\n",
    "# Number of images to randomly select\n",
    "num_images_to_augment = 164\n",
    "\n",
    "# Create the ImageDataGenerator with desired augmentation parameters\n",
    "datagen = ImageDataGenerator(\n",
    "    rotation_range=45,\n",
    "    fill_mode='reflect'\n",
    ")\n",
    "\n",
    "# List all the images in the original directory\n",
    "original_images = os.listdir(original_images_directory)\n",
    "\n",
    "# Ensure the output directory exists\n",
    "os.makedirs(augmented_images_directory, exist_ok=True)\n",
    "\n",
    "# Randomly select num_images_to_augment images\n",
    "selected_images = random.sample(original_images, num_images_to_augment)\n",
    "\n",
    "# Loop through each selected image, apply augmentations, and save one augmented image\n",
    "for image_name in selected_images:\n",
    "    # Load the original image\n",
    "    img = load_img(os.path.join(original_images_directory, image_name))\n",
    "    x = img_to_array(img)\n",
    "    x = x.reshape((1,) + x.shape)\n",
    "\n",
    "    # Generate one augmented image\n",
    "    augmented_img_array = next(datagen.flow(x, batch_size=1))[0].astype('uint8')\n",
    "    augmented_img = Image.fromarray(augmented_img_array)\n",
    "    \n",
    "    # Save the augmented image\n",
    "    augmented_img.save(os.path.join(augmented_images_directory, f\"{image_name[:-4]}_augmented.jpg\"))\n"
   ]
  },
  {
   "cell_type": "code",
   "execution_count": 16,
   "metadata": {},
   "outputs": [
    {
     "name": "stdout",
     "output_type": "stream",
     "text": [
      "804\n"
     ]
    }
   ],
   "source": [
    "print(len(os.listdir('train_data/normal')))"
   ]
  },
  {
   "cell_type": "code",
   "execution_count": 17,
   "metadata": {},
   "outputs": [
    {
     "name": "stdout",
     "output_type": "stream",
     "text": [
      "2\n"
     ]
    }
   ],
   "source": [
    "print(len(os.listdir('train_data')))"
   ]
  }
 ],
 "metadata": {
  "kernelspec": {
   "display_name": "base",
   "language": "python",
   "name": "python3"
  },
  "language_info": {
   "codemirror_mode": {
    "name": "ipython",
    "version": 3
   },
   "file_extension": ".py",
   "mimetype": "text/x-python",
   "name": "python",
   "nbconvert_exporter": "python",
   "pygments_lexer": "ipython3",
   "version": "3.11.0"
  }
 },
 "nbformat": 4,
 "nbformat_minor": 2
}
